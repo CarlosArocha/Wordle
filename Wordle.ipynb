{
 "cells": [
  {
   "cell_type": "code",
   "execution_count": 1,
   "metadata": {},
   "outputs": [],
   "source": [
    "import numpy as np\n",
    "import pandas as pd\n",
    "import re"
   ]
  },
  {
   "cell_type": "code",
   "execution_count": 9,
   "metadata": {},
   "outputs": [],
   "source": [
    "FilePathOrigin = '/Volumes/OutSSD/DATA/NLP/EnglishWords/'\n",
    "file = FilePathOrigin + 'words.txt'\n",
    "the_word = ''"
   ]
  },
  {
   "cell_type": "code",
   "execution_count": 3,
   "metadata": {},
   "outputs": [],
   "source": [
    "def reading_file():\n",
    "    f = open(file)\n",
    "    words = f.read()\n",
    "    words = re.sub('\\n',' ', words).lower()\n",
    "    words = re.findall(r'\\b[a-z]{5}\\b', words)\n",
    "    return pd.DataFrame(words, columns=['word']).drop_duplicates()"
   ]
  },
  {
   "cell_type": "code",
   "execution_count": 4,
   "metadata": {},
   "outputs": [],
   "source": [
    "def counting_letters(words):\n",
    "\n",
    "    abcd = 'abcdefghijklmnopqrstuvwxyz'\n",
    "    count = {}\n",
    "    for position in [1,2,3,4,5]:\n",
    "        count[position] = {}\n",
    "        for letter in abcd:\n",
    "            count[position][letter] = 0\n",
    "\n",
    "    for word in words.word:\n",
    "        for order, letter in enumerate(word, start=1):\n",
    "            count[order][letter] += 1\n",
    "            \n",
    "    return pd.DataFrame(count)\n",
    "    "
   ]
  },
  {
   "cell_type": "code",
   "execution_count": 5,
   "metadata": {},
   "outputs": [],
   "source": [
    "def cleaning_data(words, word, results):\n",
    "    \n",
    "    for p, (l, r) in enumerate(zip(word,results), start=0):\n",
    "        if r == '0':\n",
    "            words = words.loc[[x for x in words.word if l not in x ]]\n",
    "        if r == '1':\n",
    "            words = words.loc[[x for x in words.word if l != x[p]]]\n",
    "            words = words.loc[[x for x in words.word if l in x]]\n",
    "        if r == '2':\n",
    "            words = words.loc[[x for x in words.word if l == x[p]]]\n",
    "            \n",
    "    return words\n",
    "            "
   ]
  },
  {
   "cell_type": "code",
   "execution_count": 6,
   "metadata": {},
   "outputs": [],
   "source": [
    "def processing_words(words, word_used, results, top):\n",
    "    words = cleaning_data(words, word_used, results)\n",
    "    count = counting_letters(words)\n",
    "    words['diff'] = words.word.apply(lambda x: len(set(x)))\n",
    "    words['value'] = words.word.apply(lambda x: sum(np.diag(count.loc[list(x)])))\n",
    "    words = words.sort_values(by=['diff', 'value'], ascending=False)\n",
    "    words.index = words.word\n",
    "    print(len(words))\n",
    "    print(words.head(top))\n",
    "    return words"
   ]
  },
  {
   "cell_type": "code",
   "execution_count": 7,
   "metadata": {},
   "outputs": [],
   "source": [
    "def score(the_word, test):\n",
    "    return ''.join([(str((test[x] == the_word[x]) * 2 or 1 * (test[x] in the_word))) for x in range(5)])"
   ]
  },
  {
   "cell_type": "code",
   "execution_count": 10,
   "metadata": {},
   "outputs": [
    {
     "name": "stdout",
     "output_type": "stream",
     "text": [
      "22491\n",
      "        word  diff  value\n",
      "word                     \n",
      "bares  bares     5  15122\n",
      "cares  cares     5  15108\n",
      "tares  tares     5  14850\n",
      "mares  mares     5  14798\n",
      "pares  pares     5  14774\n",
      "dares  dares     5  14697\n",
      "banes  banes     5  14655\n",
      "canes  canes     5  14641\n",
      "lares  lares     5  14611\n",
      "bales  bales     5  14515\n"
     ]
    }
   ],
   "source": [
    "### Initial process for initial 10 top words.\n",
    "words = reading_file()\n",
    "words = processing_words(words, '','', 10) "
   ]
  },
  {
   "cell_type": "code",
   "execution_count": 11,
   "metadata": {},
   "outputs": [
    {
     "name": "stdout",
     "output_type": "stream",
     "text": [
      "390\n",
      "        word  diff  value\n",
      "word                     \n",
      "manet  manet     5    620\n",
      "galet  galet     5    617\n",
      "palet  palet     5    615\n",
      "malet  malet     5    612\n",
      "janet  janet     5    610\n",
      "binet  binet     5    610\n",
      "aliet  aliet     5    606\n",
      "valet  valet     5    604\n",
      "jalet  jalet     5    602\n",
      "danit  danit     5    602\n"
     ]
    }
   ],
   "source": [
    "### After first word results:\n",
    "words = processing_words(words, 'short','00002', 10)"
   ]
  },
  {
   "cell_type": "code",
   "execution_count": 12,
   "metadata": {},
   "outputs": [
    {
     "data": {
      "text/html": [
       "<div>\n",
       "<style scoped>\n",
       "    .dataframe tbody tr th:only-of-type {\n",
       "        vertical-align: middle;\n",
       "    }\n",
       "\n",
       "    .dataframe tbody tr th {\n",
       "        vertical-align: top;\n",
       "    }\n",
       "\n",
       "    .dataframe thead th {\n",
       "        text-align: right;\n",
       "    }\n",
       "</style>\n",
       "<table border=\"1\" class=\"dataframe\">\n",
       "  <thead>\n",
       "    <tr style=\"text-align: right;\">\n",
       "      <th></th>\n",
       "      <th>word</th>\n",
       "      <th>diff</th>\n",
       "      <th>value</th>\n",
       "    </tr>\n",
       "    <tr>\n",
       "      <th>word</th>\n",
       "      <th></th>\n",
       "      <th></th>\n",
       "      <th></th>\n",
       "    </tr>\n",
       "  </thead>\n",
       "  <tbody>\n",
       "    <tr>\n",
       "      <th>manet</th>\n",
       "      <td>manet</td>\n",
       "      <td>5</td>\n",
       "      <td>620</td>\n",
       "    </tr>\n",
       "    <tr>\n",
       "      <th>galet</th>\n",
       "      <td>galet</td>\n",
       "      <td>5</td>\n",
       "      <td>617</td>\n",
       "    </tr>\n",
       "    <tr>\n",
       "      <th>palet</th>\n",
       "      <td>palet</td>\n",
       "      <td>5</td>\n",
       "      <td>615</td>\n",
       "    </tr>\n",
       "    <tr>\n",
       "      <th>malet</th>\n",
       "      <td>malet</td>\n",
       "      <td>5</td>\n",
       "      <td>612</td>\n",
       "    </tr>\n",
       "    <tr>\n",
       "      <th>janet</th>\n",
       "      <td>janet</td>\n",
       "      <td>5</td>\n",
       "      <td>610</td>\n",
       "    </tr>\n",
       "    <tr>\n",
       "      <th>...</th>\n",
       "      <td>...</td>\n",
       "      <td>...</td>\n",
       "      <td>...</td>\n",
       "    </tr>\n",
       "    <tr>\n",
       "      <th>banat</th>\n",
       "      <td>banat</td>\n",
       "      <td>4</td>\n",
       "      <td>596</td>\n",
       "    </tr>\n",
       "    <tr>\n",
       "      <th>bewet</th>\n",
       "      <td>bewet</td>\n",
       "      <td>4</td>\n",
       "      <td>592</td>\n",
       "    </tr>\n",
       "    <tr>\n",
       "      <th>gleet</th>\n",
       "      <td>gleet</td>\n",
       "      <td>4</td>\n",
       "      <td>591</td>\n",
       "    </tr>\n",
       "    <tr>\n",
       "      <th>fleet</th>\n",
       "      <td>fleet</td>\n",
       "      <td>4</td>\n",
       "      <td>591</td>\n",
       "    </tr>\n",
       "    <tr>\n",
       "      <th>defet</th>\n",
       "      <td>defet</td>\n",
       "      <td>4</td>\n",
       "      <td>590</td>\n",
       "    </tr>\n",
       "  </tbody>\n",
       "</table>\n",
       "<p>255 rows × 3 columns</p>\n",
       "</div>"
      ],
      "text/plain": [
       "        word  diff  value\n",
       "word                     \n",
       "manet  manet     5    620\n",
       "galet  galet     5    617\n",
       "palet  palet     5    615\n",
       "malet  malet     5    612\n",
       "janet  janet     5    610\n",
       "...      ...   ...    ...\n",
       "banat  banat     4    596\n",
       "bewet  bewet     4    592\n",
       "gleet  gleet     4    591\n",
       "fleet  fleet     4    591\n",
       "defet  defet     4    590\n",
       "\n",
       "[255 rows x 3 columns]"
      ]
     },
     "execution_count": 12,
     "metadata": {},
     "output_type": "execute_result"
    }
   ],
   "source": [
    "words.head(255)"
   ]
  },
  {
   "cell_type": "code",
   "execution_count": 13,
   "metadata": {},
   "outputs": [
    {
     "name": "stdout",
     "output_type": "stream",
     "text": [
      "27\n",
      "        word  diff  value\n",
      "word                     \n",
      "gaunt  gaunt     5     65\n",
      "galut  galut     5     63\n",
      "gamut  gamut     5     63\n",
      "vaunt  vaunt     5     62\n",
      "balut  balut     5     61\n",
      "jaunt  jaunt     5     61\n",
      "gault  gault     5     61\n",
      "caput  caput     5     60\n",
      "yakut  yakut     5     60\n",
      "lamut  lamut     5     59\n"
     ]
    }
   ],
   "source": [
    "### After second word results:\n",
    "words = processing_words(words, 'adieu','10001', 10) "
   ]
  },
  {
   "cell_type": "code",
   "execution_count": 14,
   "metadata": {},
   "outputs": [
    {
     "name": "stdout",
     "output_type": "stream",
     "text": [
      "4\n",
      "        word  diff  value\n",
      "word                     \n",
      "vaunt  vaunt     5     17\n",
      "jaunt  jaunt     5     17\n",
      "taunt  taunt     4     17\n",
      "naunt  naunt     4     17\n"
     ]
    }
   ],
   "source": [
    "### After third word results:\n",
    "words = processing_words(words, 'gault','02202', 10) "
   ]
  },
  {
   "cell_type": "code",
   "execution_count": 15,
   "metadata": {},
   "outputs": [
    {
     "name": "stdout",
     "output_type": "stream",
     "text": [
      "3\n",
      "        word  diff  value\n",
      "word                     \n",
      "laise  laise     5     13\n",
      "lapse  lapse     5     13\n",
      "lasse  lasse     4     13\n"
     ]
    }
   ],
   "source": [
    "### After third word results:\n",
    "words = processing_words(words, 'false','02122', 10) "
   ]
  },
  {
   "cell_type": "code",
   "execution_count": 50,
   "metadata": {},
   "outputs": [
    {
     "name": "stdout",
     "output_type": "stream",
     "text": [
      "22491\n",
      "        word  diff  value\n",
      "word                     \n",
      "bares  bares     5  15122\n",
      "cares  cares     5  15108\n",
      "tares  tares     5  14850\n",
      "mares  mares     5  14798\n",
      "pares  pares     5  14774\n",
      "dares  dares     5  14697\n",
      "banes  banes     5  14655\n",
      "canes  canes     5  14641\n",
      "lares  lares     5  14611\n",
      "bales  bales     5  14515\n"
     ]
    }
   ],
   "source": [
    "### Initial process for initial 10 top words.\n",
    "words = reading_file()\n",
    "words = processing_words(words, '','', 10) "
   ]
  },
  {
   "cell_type": "code",
   "execution_count": 51,
   "metadata": {},
   "outputs": [
    {
     "name": "stdout",
     "output_type": "stream",
     "text": [
      "1715\n",
      "        word  diff  value\n",
      "word                     \n",
      "conia  conia     5   1441\n",
      "tolna  tolna     5   1401\n",
      "tonia  tonia     5   1387\n",
      "coila  coila     5   1382\n",
      "konia  konia     5   1381\n",
      "doina  doina     5   1380\n",
      "donia  donia     5   1377\n",
      "dolia  dolia     5   1365\n",
      "moina  moina     5   1361\n",
      "monia  monia     5   1358\n"
     ]
    }
   ],
   "source": [
    "### After first word results:\n",
    "words = processing_words(words, 'bares','01000', 10)"
   ]
  },
  {
   "cell_type": "code",
   "execution_count": 52,
   "metadata": {},
   "outputs": [
    {
     "name": "stdout",
     "output_type": "stream",
     "text": [
      "75\n",
      "        word  diff  value\n",
      "word                     \n",
      "alout  alout     5    119\n",
      "aloft  aloft     5    117\n",
      "alogy  alogy     5    116\n",
      "alody  alody     5    114\n",
      "aloud  aloud     5    114\n",
      "aholt  aholt     5    103\n",
      "altho  altho     5    100\n",
      "ahold  ahold     5     98\n",
      "adopt  adopt     5     98\n",
      "atomy  atomy     5     97\n"
     ]
    }
   ],
   "source": [
    "### After first word results:\n",
    "words = processing_words(words, 'conia','01001', 10)"
   ]
  },
  {
   "cell_type": "code",
   "execution_count": null,
   "metadata": {},
   "outputs": [],
   "source": []
  }
 ],
 "metadata": {
  "kernelspec": {
   "display_name": "Python 3 (ipykernel)",
   "language": "python",
   "name": "python3"
  },
  "language_info": {
   "codemirror_mode": {
    "name": "ipython",
    "version": 3
   },
   "file_extension": ".py",
   "mimetype": "text/x-python",
   "name": "python",
   "nbconvert_exporter": "python",
   "pygments_lexer": "ipython3",
   "version": "3.9.13"
  }
 },
 "nbformat": 4,
 "nbformat_minor": 4
}
